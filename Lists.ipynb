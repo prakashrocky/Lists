{
  "nbformat": 4,
  "nbformat_minor": 0,
  "metadata": {
    "colab": {
      "provenance": []
    },
    "kernelspec": {
      "name": "python3",
      "display_name": "Python 3"
    },
    "language_info": {
      "name": "python"
    }
  },
  "cells": [
    {
      "cell_type": "code",
      "execution_count": 1,
      "metadata": {
        "colab": {
          "base_uri": "https://localhost:8080/"
        },
        "id": "WsieH1xlY6PD",
        "outputId": "e3e08759-4df7-47ca-948e-6a387fa40cca"
      },
      "outputs": [
        {
          "output_type": "stream",
          "name": "stdout",
          "text": [
            "First element: 10\n",
            "Third element: 30\n",
            "Last element: 50\n"
          ]
        }
      ],
      "source": [
        "my_list = [10, 20, 30, 40, 50]\n",
        "first_element = my_list[0]\n",
        "print(\"First element:\", first_element)\n",
        "third_element = my_list[2]\n",
        "print(\"Third element:\", third_element)\n",
        "last_element = my_list[-1]\n",
        "print(\"Last element:\", last_element)"
      ]
    },
    {
      "cell_type": "code",
      "source": [
        "my_list = [1, 2, 3, 4, 5]\n",
        "element = 3\n",
        "\n",
        "if element in my_list:\n",
        "    print(\"Element\", element, \"exists in the list.\")\n",
        "else:\n",
        "    print(\"Element\", element, \"does not exist in the list.\")"
      ],
      "metadata": {
        "colab": {
          "base_uri": "https://localhost:8080/"
        },
        "id": "2fHYkNLObQpp",
        "outputId": "5e3e25f6-35e5-4528-c2b2-54cac52dac18"
      },
      "execution_count": 2,
      "outputs": [
        {
          "output_type": "stream",
          "name": "stdout",
          "text": [
            "Element 3 exists in the list.\n"
          ]
        }
      ]
    },
    {
      "cell_type": "code",
      "source": [
        "new_value= [1, 2, 3, 4, 5]\n",
        "length = len(new_value)\n",
        "print(\"Length of the list:\", length)"
      ],
      "metadata": {
        "colab": {
          "base_uri": "https://localhost:8080/"
        },
        "id": "VpzlM0j9bcOo",
        "outputId": "130656ba-08d5-4df0-a402-d47189a1eac7"
      },
      "execution_count": 4,
      "outputs": [
        {
          "output_type": "stream",
          "name": "stdout",
          "text": [
            "Length of the list: 5\n"
          ]
        }
      ]
    },
    {
      "cell_type": "code",
      "source": [
        "value = [1, 2, 3, 4, 5, 6, 7, 8, 9, 10]\n",
        "slicing = value[2:5]\n",
        "print(slicing)"
      ],
      "metadata": {
        "colab": {
          "base_uri": "https://localhost:8080/"
        },
        "id": "6Dh2OdQbcVJf",
        "outputId": "3c4dec15-9481-40c7-86f6-7816c684738d"
      },
      "execution_count": 7,
      "outputs": [
        {
          "output_type": "stream",
          "name": "stdout",
          "text": [
            "[3, 4, 5]\n"
          ]
        }
      ]
    },
    {
      "cell_type": "code",
      "source": [
        "my_list = [3, 1, 4, 1, 5, 9, 2, 6, 5, 3, 5]\n",
        "my_list.sort()\n",
        "print(my_list)"
      ],
      "metadata": {
        "colab": {
          "base_uri": "https://localhost:8080/"
        },
        "id": "kQbxPovVLup9",
        "outputId": "7a993b6f-0cb8-4f16-826f-ab0e01055f14"
      },
      "execution_count": 1,
      "outputs": [
        {
          "output_type": "stream",
          "name": "stdout",
          "text": [
            "[1, 1, 2, 3, 3, 4, 5, 5, 5, 6, 9]\n"
          ]
        }
      ]
    },
    {
      "cell_type": "markdown",
      "source": [],
      "metadata": {
        "id": "Xvd_q62-MkHs"
      }
    },
    {
      "cell_type": "markdown",
      "source": [],
      "metadata": {
        "id": "7YUQWVwdMj-L"
      }
    },
    {
      "cell_type": "code",
      "source": [
        "b = [1, 2, 3, 4, 5]\n",
        "b.reverse()\n",
        "print(b)\n"
      ],
      "metadata": {
        "colab": {
          "base_uri": "https://localhost:8080/"
        },
        "id": "KOk3hjnzMJJe",
        "outputId": "4339c7bd-f859-4cab-8591-c7ff9a34b736"
      },
      "execution_count": 3,
      "outputs": [
        {
          "output_type": "stream",
          "name": "stdout",
          "text": [
            "[5, 4, 3, 2, 1]\n"
          ]
        }
      ]
    },
    {
      "cell_type": "code",
      "source": [
        "variable = [1, 2, 3, 4, 1, 2, 3, 1, 2, 1]\n",
        "count = variable.count(1)\n",
        "print(\"Number of occurrences of 1:\", count)"
      ],
      "metadata": {
        "colab": {
          "base_uri": "https://localhost:8080/"
        },
        "id": "2gg_z3qnMhgc",
        "outputId": "d93db776-edc1-476a-d20c-d917777f09ec"
      },
      "execution_count": 5,
      "outputs": [
        {
          "output_type": "stream",
          "name": "stdout",
          "text": [
            "Number of occurrences of 1: 4\n"
          ]
        }
      ]
    }
  ]
}